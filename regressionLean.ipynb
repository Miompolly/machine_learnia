{
  "nbformat": 4,
  "nbformat_minor": 0,
  "metadata": {
    "colab": {
      "provenance": [],
      "mount_file_id": "https://github.com/Miompolly/machine_learnia/blob/main/regressionLean.ipynb",
      "authorship_tag": "ABX9TyPuC6WqegH1aM+VVHSDBH0S",
      "include_colab_link": true
    },
    "kernelspec": {
      "name": "python3",
      "display_name": "Python 3"
    },
    "language_info": {
      "name": "python"
    }
  },
  "cells": [
    {
      "cell_type": "markdown",
      "metadata": {
        "id": "view-in-github",
        "colab_type": "text"
      },
      "source": [
        "<a href=\"https://colab.research.google.com/github/Miompolly/machine_learnia/blob/main/regressionLean.ipynb\" target=\"_parent\"><img src=\"https://colab.research.google.com/assets/colab-badge.svg\" alt=\"Open In Colab\"/></a>"
      ]
    },
    {
      "cell_type": "markdown",
      "source": [
        "# Regression lineaire\n"
      ],
      "metadata": {
        "id": "Kaj7WdlfwvIF"
      }
    },
    {
      "cell_type": "code",
      "source": [],
      "metadata": {
        "id": "kOhsfC27m-uI"
      },
      "execution_count": null,
      "outputs": []
    },
    {
      "cell_type": "code",
      "source": [
        "import matplotlib.pyplot as plt\n",
        "import numpy as np\n",
        "from sklearn.datasets import make_regression\n",
        "\n",
        "x,y=make_regression(n_samples=100,n_features=1,noise=10)\n",
        "print(x.shape)\n",
        "print(y.shape)"
      ],
      "metadata": {
        "colab": {
          "base_uri": "https://localhost:8080/"
        },
        "id": "zko-DFKvw4vn",
        "outputId": "7757c903-6b75-448d-ff9b-e654676df4c0"
      },
      "execution_count": 72,
      "outputs": [
        {
          "output_type": "stream",
          "name": "stdout",
          "text": [
            "(100, 1)\n",
            "(100,)\n"
          ]
        }
      ]
    },
    {
      "cell_type": "code",
      "source": [
        "y=y.reshape(y.shape[0],1)\n",
        "y.shape\n",
        "y"
      ],
      "metadata": {
        "colab": {
          "base_uri": "https://localhost:8080/"
        },
        "id": "pFR96Fmt-Hmz",
        "outputId": "c358098e-5e7f-400e-d98f-f71102bf5aa1"
      },
      "execution_count": 73,
      "outputs": [
        {
          "output_type": "execute_result",
          "data": {
            "text/plain": [
              "array([[ 40.08018118],\n",
              "       [  3.59991067],\n",
              "       [  7.88601846],\n",
              "       [ 35.51683604],\n",
              "       [-20.16365073],\n",
              "       [ 18.65978003],\n",
              "       [-38.72106676],\n",
              "       [ 28.04940663],\n",
              "       [ 18.51451031],\n",
              "       [-22.51485882],\n",
              "       [  2.43060528],\n",
              "       [-32.07550839],\n",
              "       [ -9.0136236 ],\n",
              "       [ -7.79164418],\n",
              "       [ 38.27881965],\n",
              "       [ -3.25732546],\n",
              "       [ 55.57633671],\n",
              "       [-15.41301641],\n",
              "       [-29.2954718 ],\n",
              "       [ 38.61001777],\n",
              "       [ 23.11247868],\n",
              "       [-16.13670879],\n",
              "       [ 32.90315982],\n",
              "       [  2.79411754],\n",
              "       [ 11.6753645 ],\n",
              "       [  9.93058441],\n",
              "       [106.09078244],\n",
              "       [ 27.34972505],\n",
              "       [  7.62315138],\n",
              "       [-46.12109151],\n",
              "       [ 26.91612793],\n",
              "       [ 14.3750722 ],\n",
              "       [-15.76917741],\n",
              "       [ 37.10230217],\n",
              "       [ 14.38599616],\n",
              "       [-36.98730162],\n",
              "       [ 20.17746863],\n",
              "       [ -8.36623795],\n",
              "       [-16.5062107 ],\n",
              "       [-47.48134017],\n",
              "       [-46.45963735],\n",
              "       [-45.47364061],\n",
              "       [-47.67812211],\n",
              "       [ 49.30346777],\n",
              "       [ 83.0303517 ],\n",
              "       [-55.5133155 ],\n",
              "       [-12.16024506],\n",
              "       [ -9.53387076],\n",
              "       [ 11.81952871],\n",
              "       [  2.42537243],\n",
              "       [-16.16762848],\n",
              "       [-14.5998373 ],\n",
              "       [ 14.26712166],\n",
              "       [-49.92559583],\n",
              "       [-44.19066266],\n",
              "       [  9.67586218],\n",
              "       [-42.1712233 ],\n",
              "       [ 61.50202157],\n",
              "       [ 64.93805586],\n",
              "       [  2.93721665],\n",
              "       [  4.59692431],\n",
              "       [ 50.26522628],\n",
              "       [ -7.61277914],\n",
              "       [-16.5303015 ],\n",
              "       [ -0.42085734],\n",
              "       [ -5.22804668],\n",
              "       [-45.70651742],\n",
              "       [ 41.84213517],\n",
              "       [-11.10915224],\n",
              "       [-17.58863064],\n",
              "       [ 32.42466501],\n",
              "       [ 44.71258973],\n",
              "       [ 36.94667851],\n",
              "       [  6.80762655],\n",
              "       [-15.84832521],\n",
              "       [ 20.67971662],\n",
              "       [  7.57649929],\n",
              "       [-16.52806022],\n",
              "       [ 14.26798943],\n",
              "       [ 38.37674345],\n",
              "       [  6.19875736],\n",
              "       [ 17.52320833],\n",
              "       [ 44.08054973],\n",
              "       [  0.29314981],\n",
              "       [-14.61498013],\n",
              "       [  4.49518545],\n",
              "       [  4.73657475],\n",
              "       [ -1.30417175],\n",
              "       [ -7.45412619],\n",
              "       [-68.04978161],\n",
              "       [-28.82748471],\n",
              "       [ 72.03191993],\n",
              "       [ 34.80295357],\n",
              "       [-19.95468354],\n",
              "       [ 13.58564155],\n",
              "       [-11.6170075 ],\n",
              "       [-19.1462014 ],\n",
              "       [  9.37531172],\n",
              "       [ 44.61767228],\n",
              "       [ -7.48612067]])"
            ]
          },
          "metadata": {},
          "execution_count": 73
        }
      ]
    },
    {
      "cell_type": "code",
      "source": [
        "plt.scatter(x,y)\n",
        "plt.show"
      ],
      "metadata": {
        "colab": {
          "base_uri": "https://localhost:8080/",
          "height": 447
        },
        "id": "JlfQ0GEs-bvm",
        "outputId": "fc4e2f23-dba1-4913-f0dd-a361c13c546a"
      },
      "execution_count": 74,
      "outputs": [
        {
          "output_type": "execute_result",
          "data": {
            "text/plain": [
              "<function matplotlib.pyplot.show(close=None, block=None)>"
            ]
          },
          "metadata": {},
          "execution_count": 74
        },
        {
          "output_type": "display_data",
          "data": {
            "text/plain": [
              "<Figure size 640x480 with 1 Axes>"
            ],
            "image/png": "[encoded data removed]"
          },
          "metadata": {}
        }
      ]
    },
    {
      "cell_type": "code",
      "source": [
        "X=np.hstack((x,np.ones(x.shape)))\n",
        "X"
      ],
      "metadata": {
        "colab": {
          "base_uri": "https://localhost:8080/"
        },
        "id": "lHq16sXZ-6kw",
        "outputId": "d14d8eb8-f544-437c-869a-27fce70bb398"
      },
      "execution_count": 75,
      "outputs": [
        {
          "output_type": "execute_result",
          "data": {
            "text/plain": [
              "array([[ 1.78232628,  1.        ],\n",
              "       [-0.02712607,  1.        ],\n",
              "       [ 0.47987812,  1.        ],\n",
              "       [ 1.14759166,  1.        ],\n",
              "       [-0.43034989,  1.        ],\n",
              "       [ 0.76101111,  1.        ],\n",
              "       [-1.72678011,  1.        ],\n",
              "       [ 1.12123171,  1.        ],\n",
              "       [ 0.26876711,  1.        ],\n",
              "       [-0.70758225,  1.        ],\n",
              "       [ 0.0991393 ,  1.        ],\n",
              "       [-0.81815611,  1.        ],\n",
              "       [ 0.04151148,  1.        ],\n",
              "       [ 0.13483682,  1.        ],\n",
              "       [ 1.08570956,  1.        ],\n",
              "       [ 0.14379624,  1.        ],\n",
              "       [ 1.31394236,  1.        ],\n",
              "       [-0.58820381,  1.        ],\n",
              "       [-1.36605938,  1.        ],\n",
              "       [ 1.49420245,  1.        ],\n",
              "       [ 0.64932408,  1.        ],\n",
              "       [-0.32642387,  1.        ],\n",
              "       [ 1.6672228 ,  1.        ],\n",
              "       [ 0.32211984,  1.        ],\n",
              "       [ 0.66596967,  1.        ],\n",
              "       [ 0.08496568,  1.        ],\n",
              "       [ 3.81798526,  1.        ],\n",
              "       [ 0.99159639,  1.        ],\n",
              "       [ 0.55285996,  1.        ],\n",
              "       [-1.3663088 ,  1.        ],\n",
              "       [ 1.13384696,  1.        ],\n",
              "       [ 1.13026526,  1.        ],\n",
              "       [-0.59327884,  1.        ],\n",
              "       [ 1.52528967,  1.        ],\n",
              "       [ 0.25280664,  1.        ],\n",
              "       [-1.22301767,  1.        ],\n",
              "       [ 1.06443565,  1.        ],\n",
              "       [-0.01985751,  1.        ],\n",
              "       [-0.4310212 ,  1.        ],\n",
              "       [-1.67027117,  1.        ],\n",
              "       [-2.0870281 ,  1.        ],\n",
              "       [-1.43435723,  1.        ],\n",
              "       [-1.55401404,  1.        ],\n",
              "       [ 1.00482953,  1.        ],\n",
              "       [ 2.79884964,  1.        ],\n",
              "       [-1.91943481,  1.        ],\n",
              "       [-1.41698539,  1.        ],\n",
              "       [-0.17088893,  1.        ],\n",
              "       [ 0.40527456,  1.        ],\n",
              "       [-0.11530377,  1.        ],\n",
              "       [-0.85289135,  1.        ],\n",
              "       [-1.1822917 ,  1.        ],\n",
              "       [-0.32617836,  1.        ],\n",
              "       [-1.70690757,  1.        ],\n",
              "       [-0.89903237,  1.        ],\n",
              "       [ 0.7871904 ,  1.        ],\n",
              "       [-1.11685212,  1.        ],\n",
              "       [ 1.69173026,  1.        ],\n",
              "       [ 2.37254938,  1.        ],\n",
              "       [-0.31002937,  1.        ],\n",
              "       [ 0.43195158,  1.        ],\n",
              "       [ 1.11394203,  1.        ],\n",
              "       [ 0.25940669,  1.        ],\n",
              "       [-0.7798409 ,  1.        ],\n",
              "       [ 0.28315543,  1.        ],\n",
              "       [-0.34396293,  1.        ],\n",
              "       [-1.39010631,  1.        ],\n",
              "       [ 1.33705115,  1.        ],\n",
              "       [-1.03313845,  1.        ],\n",
              "       [-0.7833298 ,  1.        ],\n",
              "       [ 1.47539806,  1.        ],\n",
              "       [ 1.14036852,  1.        ],\n",
              "       [ 0.90795757,  1.        ],\n",
              "       [-0.01276278,  1.        ],\n",
              "       [-1.01369832,  1.        ],\n",
              "       [ 0.41553695,  1.        ],\n",
              "       [ 0.28559839,  1.        ],\n",
              "       [-0.74744921,  1.        ],\n",
              "       [ 0.39348996,  1.        ],\n",
              "       [ 0.94760329,  1.        ],\n",
              "       [ 0.48037107,  1.        ],\n",
              "       [ 0.61566488,  1.        ],\n",
              "       [ 1.05896055,  1.        ],\n",
              "       [ 0.31896457,  1.        ],\n",
              "       [-0.86700346,  1.        ],\n",
              "       [ 0.65111647,  1.        ],\n",
              "       [ 0.16861481,  1.        ],\n",
              "       [ 0.43441169,  1.        ],\n",
              "       [-0.73537199,  1.        ],\n",
              "       [-2.61962134,  1.        ],\n",
              "       [-0.88487713,  1.        ],\n",
              "       [ 1.91691026,  1.        ],\n",
              "       [ 0.60535157,  1.        ],\n",
              "       [-0.59187931,  1.        ],\n",
              "       [ 0.42424876,  1.        ],\n",
              "       [-0.28479709,  1.        ],\n",
              "       [ 0.10970691,  1.        ],\n",
              "       [ 0.10556025,  1.        ],\n",
              "       [ 1.33701832,  1.        ],\n",
              "       [-0.55869342,  1.        ]])"
            ]
          },
          "metadata": {},
          "execution_count": 75
        }
      ]
    },
    {
      "cell_type": "code",
      "source": [
        "theta=np.random.rand(2,1)\n",
        "# 2 row and one column\n",
        "theta"
      ],
      "metadata": {
        "id": "5CH5GQiPAePw",
        "colab": {
          "base_uri": "https://localhost:8080/"
        },
        "outputId": "d7de4a6d-8559-463e-def4-95772a38280a"
      },
      "execution_count": 76,
      "outputs": [
        {
          "output_type": "execute_result",
          "data": {
            "text/plain": [
              "array([[0.83842976],\n",
              "       [0.10529755]])"
            ]
          },
          "metadata": {},
          "execution_count": 76
        }
      ]
    },
    {
      "cell_type": "markdown",
      "source": [
        "**X=mx(n+1) m=samples n=features**\n",
        "**y-m*1**\n",
        "\n",
        "**theta=(n+1)*1**\n"
      ],
      "metadata": {
        "id": "I_nPizo0CMS9"
      }
    },
    {
      "cell_type": "markdown",
      "source": [
        "# Model"
      ],
      "metadata": {
        "id": "pZE23k33DohT"
      }
    },
    {
      "cell_type": "code",
      "source": [
        "def model(X,theta):\n",
        "  return X.dot(theta)\n",
        "\n",
        "model(X,theta)\n",
        "plt.scatter(x,y)\n",
        "plt.plot(x,model(X,theta))\n",
        "plt.show()\n",
        "\n",
        "\n"
      ],
      "metadata": {
        "colab": {
          "base_uri": "https://localhost:8080/",
          "height": 430
        },
        "id": "-u-hBNdOCQug",
        "outputId": "561a4d19-e84e-45d7-f166-c7644166df34"
      },
      "execution_count": 77,
      "outputs": [
        {
          "output_type": "display_data",
          "data": {
            "text/plain": [
              "<Figure size 640x480 with 1 Axes>"
            ],
            "image/png": "[encoded data removed]"
          },
          "metadata": {}
        }
      ]
    },
    {
      "cell_type": "markdown",
      "source": [
        "# *loss* function(fonction cout)\n",
        "\n",
        "J(theta)=(1/2m).sum(X.theta-y)**2\n",
        "where X.theta=model\n"
      ],
      "metadata": {
        "id": "n1qWYD_fIGUK"
      }
    },
    {
      "cell_type": "code",
      "source": [
        "def loss_function(X,y,theta):\n",
        "  m=len(y)\n",
        "  return 1/(2*m) * np.sum((model(X,theta)-y)**2)\n",
        "\n",
        "loss_function(X,y,theta)"
      ],
      "metadata": {
        "colab": {
          "base_uri": "https://localhost:8080/"
        },
        "id": "1jw6n_zJLTZX",
        "outputId": "4b84a1f4-2c5b-476f-b86d-57b4fa033ce5"
      },
      "execution_count": 78,
      "outputs": [
        {
          "output_type": "execute_result",
          "data": {
            "text/plain": [
              "495.8408242512928"
            ]
          },
          "metadata": {},
          "execution_count": 78
        }
      ]
    },
    {
      "cell_type": "markdown",
      "source": [
        "**GRADIENTS**\n",
        "dJ(theta)/d(theta)=(1/m).X.T((X,theta)-y)"
      ],
      "metadata": {
        "id": "UhoB2f_LNEWh"
      }
    },
    {
      "cell_type": "code",
      "source": [
        "def grad(X,y,theta):\n",
        "  m=len(y)\n",
        "  return (1/m)*X.T.dot(model(X,theta)-y)\n",
        "\n",
        "grad(X,y,theta)\n",
        "\n",
        "\n"
      ],
      "metadata": {
        "id": "_cVvIvNEM8HT",
        "outputId": "3f893637-f8c3-4312-af32-f021bba0c034",
        "colab": {
          "base_uri": "https://localhost:8080/"
        }
      },
      "execution_count": 79,
      "outputs": [
        {
          "output_type": "execute_result",
          "data": {
            "text/plain": [
              "array([[-33.21100056],\n",
              "       [ -3.87525983]])"
            ]
          },
          "metadata": {},
          "execution_count": 79
        }
      ]
    },
    {
      "cell_type": "markdown",
      "source": [
        "# DESCENTE GRADIENTS(Gradients Descente)\n",
        "**theta=theta-alpha*grad(X,y,theta)**"
      ],
      "metadata": {
        "id": "8gUKJF_wNCEt"
      }
    },
    {
      "cell_type": "code",
      "source": [
        "def descgrad(X,y,theta,learning_rate,iteration):\n",
        "  cost_history=np.zeros(iteration)\n",
        "  for i in range(0,iteration):\n",
        "    theta=theta-learning_rate*grad(X,y,theta)\n",
        "    cost_history[i]=loss_function(X,y,theta)\n",
        "  return theta,cost_history\n",
        "\n",
        "final_theta,cost_history=descgrad(X,y,theta,0.1,1000)\n",
        "final_theta\n",
        "\n"
      ],
      "metadata": {
        "colab": {
          "base_uri": "https://localhost:8080/"
        },
        "id": "7jOmgZ7-XcQ7",
        "outputId": "d035dc3e-06e1-49bc-de58-a0c56602390b"
      },
      "execution_count": 86,
      "outputs": [
        {
          "output_type": "execute_result",
          "data": {
            "text/plain": [
              "array([[27.55132577],\n",
              "       [ 1.04794851]])"
            ]
          },
          "metadata": {},
          "execution_count": 86
        }
      ]
    },
    {
      "cell_type": "code",
      "source": [],
      "metadata": {
        "id": "6mggmHk6iNy4"
      },
      "execution_count": 86,
      "outputs": []
    },
    {
      "cell_type": "code",
      "source": [],
      "metadata": {
        "id": "wSYE4NECiPgT"
      },
      "execution_count": null,
      "outputs": []
    },
    {
      "cell_type": "code",
      "source": [
        "plt.scatter(x,y)\n",
        "plt.plot(X,model(X,final_theta))\n"
      ],
      "metadata": {
        "colab": {
          "base_uri": "https://localhost:8080/",
          "height": 465
        },
        "id": "rpn4Pz05dyxE",
        "outputId": "6f862eb7-2102-4ca5-c52b-e116149366ff"
      },
      "execution_count": 87,
      "outputs": [
        {
          "output_type": "execute_result",
          "data": {
            "text/plain": [
              "[<matplotlib.lines.Line2D at 0x7d022c75f610>,\n",
              " <matplotlib.lines.Line2D at 0x7d022c75f670>]"
            ]
          },
          "metadata": {},
          "execution_count": 87
        },
        {
          "output_type": "display_data",
          "data": {
            "text/plain": [
              "<Figure size 640x480 with 1 Axes>"
            ],
            "image/png": "[encoded data removed]"
          },
          "metadata": {}
        }
      ]
    },
    {
      "cell_type": "code",
      "source": [
        "plt.plot(range(1000),cost_history)"
      ],
      "metadata": {
        "colab": {
          "base_uri": "https://localhost:8080/",
          "height": 447
        },
        "id": "UvrMlZ2PiSOb",
        "outputId": "66b01ccf-9673-4bd9-c4c8-cd108bd36b07"
      },
      "execution_count": 88,
      "outputs": [
        {
          "output_type": "execute_result",
          "data": {
            "text/plain": [
              "[<matplotlib.lines.Line2D at 0x7d023017eda0>]"
            ]
          },
          "metadata": {},
          "execution_count": 88
        },
        {
          "output_type": "display_data",
          "data": {
            "text/plain": [
              "<Figure size 640x480 with 1 Axes>"
            ],
            "image/png": "[encoded data removed]"
          },
          "metadata": {}
        }
      ]
    },
    {
      "cell_type": "markdown",
      "source": [
        "## **COEFFICIENT DE TERMINATION R2**\n",
        "\n",
        "# r**2=1-((sum(y-f(x)**2))/sum(y- y.mean)**2)**"
      ],
      "metadata": {
        "id": "YDMq0_AxoFLG"
      }
    },
    {
      "cell_type": "code",
      "source": [
        "def coef_determination(y,pred):\n",
        "  u=((y-pred)**2).sum()\n",
        "  v=((y-y.mean())**2).sum()\n",
        "  return 1-u/v\n"
      ],
      "metadata": {
        "id": "or65tQteoCQz"
      },
      "execution_count": 89,
      "outputs": []
    },
    {
      "cell_type": "code",
      "source": [
        "pred =model(X,final_theta)"
      ],
      "metadata": {
        "id": "p4ehwMMipUSj"
      },
      "execution_count": 84,
      "outputs": []
    },
    {
      "cell_type": "code",
      "source": [
        "coef_determination(y,pred)"
      ],
      "metadata": {
        "id": "IfZd8eHfptCC",
        "outputId": "d9edd645-bb9a-43ce-8410-a16ea2b2cc3c",
        "colab": {
          "base_uri": "https://localhost:8080/"
        }
      },
      "execution_count": 90,
      "outputs": [
        {
          "output_type": "execute_result",
          "data": {
            "text/plain": [
              "0.9023086891039326"
            ]
          },
          "metadata": {},
          "execution_count": 90
        }
      ]
    }
  ]
}