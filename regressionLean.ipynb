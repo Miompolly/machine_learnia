{
  "nbformat": 4,
  "nbformat_minor": 0,
  "metadata": {
    "colab": {
      "provenance": [],
      "mount_file_id": "https://github.com/Miompolly/machine_learnia/blob/main/regressionLean.ipynb",
      "authorship_tag": "ABX9TyNMMuowxlPBUL04Xnt39T7y",
      "include_colab_link": true
    },
    "kernelspec": {
      "name": "python3",
      "display_name": "Python 3"
    },
    "language_info": {
      "name": "python"
    }
  },
  "cells": [
    {
      "cell_type": "markdown",
      "metadata": {
        "id": "view-in-github",
        "colab_type": "text"
      },
      "source": [
        "<a href=\"https://colab.research.google.com/github/Miompolly/machine_learnia/blob/main/regressionLean.ipynb\" target=\"_parent\"><img src=\"https://colab.research.google.com/assets/colab-badge.svg\" alt=\"Open In Colab\"/></a>"
      ]
    },
    {
      "cell_type": "markdown",
      "source": [
        "# Regression lineaire\n"
      ],
      "metadata": {
        "id": "Kaj7WdlfwvIF"
      }
    },
    {
      "cell_type": "code",
      "source": [],
      "metadata": {
        "id": "kOhsfC27m-uI"
      },
      "execution_count": 1,
      "outputs": []
    },
    {
      "cell_type": "code",
      "source": [
        "import matplotlib.pyplot as plt\n",
        "import numpy as np\n",
        "from sklearn.datasets import make_regression\n",
        "\n",
        "x,y=make_regression(n_samples=100,n_features=1,noise=10)\n",
        "print(x.shape)\n",
        "print(y.shape)"
      ],
      "metadata": {
        "colab": {
          "base_uri": "https://localhost:8080/"
        },
        "id": "zko-DFKvw4vn",
        "outputId": "c15a15d2-aa6c-4180-c4d8-01e6d72df5f7"
      },
      "execution_count": 2,
      "outputs": [
        {
          "output_type": "stream",
          "name": "stdout",
          "text": [
            "(100, 1)\n",
            "(100,)\n"
          ]
        }
      ]
    },
    {
      "cell_type": "code",
      "source": [
        "y=y.reshape(y.shape[0],1)\n",
        "y.shape\n",
        "y"
      ],
      "metadata": {
        "colab": {
          "base_uri": "https://localhost:8080/"
        },
        "id": "pFR96Fmt-Hmz",
        "outputId": "49ae1dd4-e8fa-4a8d-be1e-3cac7efadfb3"
      },
      "execution_count": 3,
      "outputs": [
        {
          "output_type": "execute_result",
          "data": {
            "text/plain": [
              "array([[-100.91271577],\n",
              "       [ -91.72926013],\n",
              "       [ -10.80238718],\n",
              "       [ -30.77012835],\n",
              "       [ -49.5523769 ],\n",
              "       [  -3.65066253],\n",
              "       [  23.56096258],\n",
              "       [  11.79071524],\n",
              "       [ -27.16116564],\n",
              "       [ -22.33972936],\n",
              "       [ -64.80869386],\n",
              "       [  22.31708463],\n",
              "       [ -12.56123961],\n",
              "       [  -0.41471388],\n",
              "       [  40.57574914],\n",
              "       [  -2.72320801],\n",
              "       [ -19.25594884],\n",
              "       [ -14.0553271 ],\n",
              "       [  -7.7168909 ],\n",
              "       [ -24.64521882],\n",
              "       [-121.82088292],\n",
              "       [ -12.98226334],\n",
              "       [  20.43224246],\n",
              "       [  42.01769844],\n",
              "       [ -26.21927618],\n",
              "       [  73.1055566 ],\n",
              "       [  58.63780632],\n",
              "       [ -40.07689562],\n",
              "       [  26.89622328],\n",
              "       [ -10.65426477],\n",
              "       [  30.66050598],\n",
              "       [  15.67128295],\n",
              "       [ -55.34044208],\n",
              "       [   3.28236115],\n",
              "       [  55.32023198],\n",
              "       [  15.71707702],\n",
              "       [  -6.44305165],\n",
              "       [ -17.27686754],\n",
              "       [  88.60692518],\n",
              "       [  11.36216534],\n",
              "       [ -71.51914738],\n",
              "       [   2.04864095],\n",
              "       [ -24.84830546],\n",
              "       [  34.82228963],\n",
              "       [  40.38354302],\n",
              "       [ -33.34040402],\n",
              "       [  60.42939606],\n",
              "       [  16.83683982],\n",
              "       [  88.78551754],\n",
              "       [  13.68998989],\n",
              "       [ -18.31495178],\n",
              "       [  34.16853335],\n",
              "       [ -64.87344151],\n",
              "       [ -32.96200684],\n",
              "       [ -13.27729101],\n",
              "       [  -9.18996196],\n",
              "       [  29.08837679],\n",
              "       [   4.47580362],\n",
              "       [  81.82117805],\n",
              "       [ -22.75969558],\n",
              "       [  34.55207615],\n",
              "       [ -28.76326001],\n",
              "       [ -62.00083742],\n",
              "       [ -18.92397504],\n",
              "       [  -9.50382273],\n",
              "       [ -35.9359631 ],\n",
              "       [ -11.01069644],\n",
              "       [  -3.58954143],\n",
              "       [ -32.50854965],\n",
              "       [  25.52922589],\n",
              "       [ 124.21805721],\n",
              "       [ -39.84978909],\n",
              "       [  46.99802384],\n",
              "       [ -15.822351  ],\n",
              "       [  21.53374441],\n",
              "       [ -68.85520947],\n",
              "       [  41.5637375 ],\n",
              "       [  -7.97517412],\n",
              "       [  38.48494219],\n",
              "       [ -17.7136594 ],\n",
              "       [  60.84811369],\n",
              "       [  68.27889255],\n",
              "       [ -42.37965989],\n",
              "       [ -63.17506153],\n",
              "       [ -49.77368906],\n",
              "       [-104.84505017],\n",
              "       [ -72.55155308],\n",
              "       [ -51.06633943],\n",
              "       [   7.4888846 ],\n",
              "       [   4.78875894],\n",
              "       [ -15.4700348 ],\n",
              "       [  22.47175334],\n",
              "       [  39.97901186],\n",
              "       [  20.70553002],\n",
              "       [  11.05705315],\n",
              "       [ -75.12064605],\n",
              "       [  36.86656553],\n",
              "       [ -25.81972805],\n",
              "       [  57.87212556],\n",
              "       [  41.3544014 ]])"
            ]
          },
          "metadata": {},
          "execution_count": 3
        }
      ]
    },
    {
      "cell_type": "code",
      "source": [
        "plt.scatter(x,y)\n",
        "plt.show"
      ],
      "metadata": {
        "colab": {
          "base_uri": "https://localhost:8080/",
          "height": 447
        },
        "id": "JlfQ0GEs-bvm",
        "outputId": "c6abe1f7-feef-40de-93d6-f0132750f26c"
      },
      "execution_count": 4,
      "outputs": [
        {
          "output_type": "execute_result",
          "data": {
            "text/plain": [
              "<function matplotlib.pyplot.show(close=None, block=None)>"
            ]
          },
          "metadata": {},
          "execution_count": 4
        },
        {
          "output_type": "display_data",
          "data": {
            "text/plain": [
              "<Figure size 640x480 with 1 Axes>"
            ],
            "image/png": "[encoded data removed]"
          },
          "metadata": {}
        }
      ]
    },
    {
      "cell_type": "code",
      "source": [
        "X=np.hstack((x,np.ones(x.shape)))\n",
        "X"
      ],
      "metadata": {
        "colab": {
          "base_uri": "https://localhost:8080/"
        },
        "id": "lHq16sXZ-6kw",
        "outputId": "3a98e07d-f21b-46d1-def6-1a987c47a049"
      },
      "execution_count": 5,
      "outputs": [
        {
          "output_type": "execute_result",
          "data": {
            "text/plain": [
              "array([[-2.25603769e+00,  1.00000000e+00],\n",
              "       [-1.98487534e+00,  1.00000000e+00],\n",
              "       [-2.49420839e-01,  1.00000000e+00],\n",
              "       [-7.12126710e-01,  1.00000000e+00],\n",
              "       [-1.17506312e+00,  1.00000000e+00],\n",
              "       [ 1.38752800e-03,  1.00000000e+00],\n",
              "       [ 4.12110353e-01,  1.00000000e+00],\n",
              "       [ 1.60476904e-01,  1.00000000e+00],\n",
              "       [-4.18362640e-01,  1.00000000e+00],\n",
              "       [-2.04178150e-01,  1.00000000e+00],\n",
              "       [-1.27816959e+00,  1.00000000e+00],\n",
              "       [ 5.58213734e-01,  1.00000000e+00],\n",
              "       [-4.38857002e-01,  1.00000000e+00],\n",
              "       [-7.70864420e-03,  1.00000000e+00],\n",
              "       [ 6.28303362e-01,  1.00000000e+00],\n",
              "       [ 8.17379814e-02,  1.00000000e+00],\n",
              "       [ 4.34162634e-02,  1.00000000e+00],\n",
              "       [-1.97103072e-01,  1.00000000e+00],\n",
              "       [ 2.57138113e-02,  1.00000000e+00],\n",
              "       [-5.44472753e-01,  1.00000000e+00],\n",
              "       [-2.71896938e+00,  1.00000000e+00],\n",
              "       [-5.32787601e-02,  1.00000000e+00],\n",
              "       [ 5.99854615e-01,  1.00000000e+00],\n",
              "       [ 8.71264779e-01,  1.00000000e+00],\n",
              "       [-1.51219092e-01,  1.00000000e+00],\n",
              "       [ 1.54960257e+00,  1.00000000e+00],\n",
              "       [ 1.46744000e+00,  1.00000000e+00],\n",
              "       [-1.19057154e+00,  1.00000000e+00],\n",
              "       [ 1.01181729e+00,  1.00000000e+00],\n",
              "       [-5.18052556e-01,  1.00000000e+00],\n",
              "       [ 6.27237583e-01,  1.00000000e+00],\n",
              "       [ 1.17366461e-01,  1.00000000e+00],\n",
              "       [-1.24601469e+00,  1.00000000e+00],\n",
              "       [ 1.03937665e-01,  1.00000000e+00],\n",
              "       [ 9.59691485e-01,  1.00000000e+00],\n",
              "       [ 3.13660441e-01,  1.00000000e+00],\n",
              "       [-9.23353250e-02,  1.00000000e+00],\n",
              "       [-4.64741487e-01,  1.00000000e+00],\n",
              "       [ 2.17961053e+00,  1.00000000e+00],\n",
              "       [-7.29222218e-02,  1.00000000e+00],\n",
              "       [-1.56745330e+00,  1.00000000e+00],\n",
              "       [ 8.74242196e-02,  1.00000000e+00],\n",
              "       [-7.86208980e-01,  1.00000000e+00],\n",
              "       [ 6.31701849e-01,  1.00000000e+00],\n",
              "       [ 7.27084245e-01,  1.00000000e+00],\n",
              "       [-1.01659454e+00,  1.00000000e+00],\n",
              "       [ 1.09900980e+00,  1.00000000e+00],\n",
              "       [ 2.49368909e-01,  1.00000000e+00],\n",
              "       [ 1.83984573e+00,  1.00000000e+00],\n",
              "       [ 7.24775902e-01,  1.00000000e+00],\n",
              "       [-4.56133803e-02,  1.00000000e+00],\n",
              "       [ 4.20455454e-01,  1.00000000e+00],\n",
              "       [-1.52212414e+00,  1.00000000e+00],\n",
              "       [-8.83382884e-01,  1.00000000e+00],\n",
              "       [-7.61436423e-01,  1.00000000e+00],\n",
              "       [ 6.41455208e-02,  1.00000000e+00],\n",
              "       [ 4.57815414e-01,  1.00000000e+00],\n",
              "       [ 2.83103814e-02,  1.00000000e+00],\n",
              "       [ 1.80493506e+00,  1.00000000e+00],\n",
              "       [-4.92395318e-01,  1.00000000e+00],\n",
              "       [ 1.12360406e+00,  1.00000000e+00],\n",
              "       [-6.88623810e-01,  1.00000000e+00],\n",
              "       [-1.31475904e+00,  1.00000000e+00],\n",
              "       [-1.29314619e-01,  1.00000000e+00],\n",
              "       [-3.66289159e-01,  1.00000000e+00],\n",
              "       [-7.81614274e-01,  1.00000000e+00],\n",
              "       [-2.34047513e-01,  1.00000000e+00],\n",
              "       [-2.15718099e-01,  1.00000000e+00],\n",
              "       [-4.63954325e-01,  1.00000000e+00],\n",
              "       [ 4.36295558e-01,  1.00000000e+00],\n",
              "       [ 2.89654627e+00,  1.00000000e+00],\n",
              "       [-9.08988332e-01,  1.00000000e+00],\n",
              "       [ 1.27144888e+00,  1.00000000e+00],\n",
              "       [ 4.39772330e-02,  1.00000000e+00],\n",
              "       [ 7.21176777e-01,  1.00000000e+00],\n",
              "       [-1.31889089e+00,  1.00000000e+00],\n",
              "       [ 6.69587097e-01,  1.00000000e+00],\n",
              "       [-3.31145368e-01,  1.00000000e+00],\n",
              "       [ 1.20940297e+00,  1.00000000e+00],\n",
              "       [-2.04871655e-01,  1.00000000e+00],\n",
              "       [ 1.62463994e+00,  1.00000000e+00],\n",
              "       [ 1.53765671e+00,  1.00000000e+00],\n",
              "       [-8.22073452e-01,  1.00000000e+00],\n",
              "       [-1.29403873e+00,  1.00000000e+00],\n",
              "       [-1.28565174e+00,  1.00000000e+00],\n",
              "       [-2.74693599e+00,  1.00000000e+00],\n",
              "       [-1.19187478e+00,  1.00000000e+00],\n",
              "       [-1.09562725e+00,  1.00000000e+00],\n",
              "       [-1.22373809e-01,  1.00000000e+00],\n",
              "       [-1.33874438e-01,  1.00000000e+00],\n",
              "       [-3.69976254e-01,  1.00000000e+00],\n",
              "       [ 8.52207225e-01,  1.00000000e+00],\n",
              "       [ 5.88434381e-01,  1.00000000e+00],\n",
              "       [ 4.03260790e-01,  1.00000000e+00],\n",
              "       [ 5.28695021e-01,  1.00000000e+00],\n",
              "       [-1.75204683e+00,  1.00000000e+00],\n",
              "       [ 8.78646604e-01,  1.00000000e+00],\n",
              "       [-3.39368962e-01,  1.00000000e+00],\n",
              "       [ 1.52281514e+00,  1.00000000e+00],\n",
              "       [ 7.98628388e-01,  1.00000000e+00]])"
            ]
          },
          "metadata": {},
          "execution_count": 5
        }
      ]
    },
    {
      "cell_type": "code",
      "source": [
        "theta=np.random.rand(2,1)\n",
        "# 2 row and one column\n",
        "theta"
      ],
      "metadata": {
        "id": "5CH5GQiPAePw",
        "colab": {
          "base_uri": "https://localhost:8080/"
        },
        "outputId": "23adc6d9-8018-418b-f6d4-bec12e3d8e37"
      },
      "execution_count": 6,
      "outputs": [
        {
          "output_type": "execute_result",
          "data": {
            "text/plain": [
              "array([[0.72237947],\n",
              "       [0.08074482]])"
            ]
          },
          "metadata": {},
          "execution_count": 6
        }
      ]
    },
    {
      "cell_type": "markdown",
      "source": [
        "**X=mx(n+1) m=samples n=features**\n",
        "**y-m*1**\n",
        "\n",
        "**theta=(n+1)*1**\n"
      ],
      "metadata": {
        "id": "I_nPizo0CMS9"
      }
    },
    {
      "cell_type": "markdown",
      "source": [
        "# Model"
      ],
      "metadata": {
        "id": "pZE23k33DohT"
      }
    },
    {
      "cell_type": "code",
      "source": [
        "def model(X,theta):\n",
        "  return X.dot(theta)\n",
        "\n",
        "model(X,theta)\n",
        "plt.scatter(x,y)\n",
        "plt.plot(x,model(X,theta))\n",
        "plt.show()\n",
        "\n",
        "\n"
      ],
      "metadata": {
        "colab": {
          "base_uri": "https://localhost:8080/",
          "height": 430
        },
        "id": "-u-hBNdOCQug",
        "outputId": "6463743b-64af-40f6-8861-309d996aba9e"
      },
      "execution_count": 7,
      "outputs": [
        {
          "output_type": "display_data",
          "data": {
            "text/plain": [
              "<Figure size 640x480 with 1 Axes>"
            ],
            "image/png": "[encoded data removed]"
          },
          "metadata": {}
        }
      ]
    },
    {
      "cell_type": "markdown",
      "source": [
        "# *loss* function(fonction cout)\n",
        "\n",
        "J(theta)=(1/2m).sum(X.theta-y)**2\n",
        "where X.theta=model\n"
      ],
      "metadata": {
        "id": "n1qWYD_fIGUK"
      }
    },
    {
      "cell_type": "code",
      "source": [
        "def loss_function(X,y,theta):\n",
        "  m=len(y)\n",
        "  return 1/(2*m) * np.sum((model(X,theta)-y)**2)\n",
        "\n",
        "loss_function(X,y,theta)"
      ],
      "metadata": {
        "colab": {
          "base_uri": "https://localhost:8080/"
        },
        "id": "1jw6n_zJLTZX",
        "outputId": "ca214792-209d-4764-c519-4291dfe401be"
      },
      "execution_count": 8,
      "outputs": [
        {
          "output_type": "execute_result",
          "data": {
            "text/plain": [
              "980.8593600721075"
            ]
          },
          "metadata": {},
          "execution_count": 8
        }
      ]
    },
    {
      "cell_type": "markdown",
      "source": [
        "**GRADIENTS**\n",
        "dJ(theta)/d(theta)=(1/m).X.T((X,theta)-y)"
      ],
      "metadata": {
        "id": "UhoB2f_LNEWh"
      }
    },
    {
      "cell_type": "code",
      "source": [
        "def grad(X,y,theta):\n",
        "  m=len(y)\n",
        "  return (1/m)*X.T.dot(model(X,theta)-y)\n",
        "\n",
        "grad(X,y,theta)\n",
        "\n",
        "\n"
      ],
      "metadata": {
        "id": "_cVvIvNEM8HT",
        "outputId": "a8802b88-cb92-42fb-c1fb-9d02f155794e",
        "colab": {
          "base_uri": "https://localhost:8080/"
        }
      },
      "execution_count": 9,
      "outputs": [
        {
          "output_type": "execute_result",
          "data": {
            "text/plain": [
              "array([[-44.02235166],\n",
              "       [  2.71593237]])"
            ]
          },
          "metadata": {},
          "execution_count": 9
        }
      ]
    },
    {
      "cell_type": "markdown",
      "source": [
        "# DESCENTE GRADIENTS(Gradients Descente)\n",
        "**theta=theta-alpha*grad(X,y,theta)**"
      ],
      "metadata": {
        "id": "8gUKJF_wNCEt"
      }
    },
    {
      "cell_type": "code",
      "source": [
        "def descgrad(X,y,theta,learning_rate,iteration):\n",
        "  cost_history=np.zeros(iteration)\n",
        "  for i in range(0,iteration):\n",
        "    theta=theta-learning_rate*grad(X,y,theta)\n",
        "    cost_history[i]=loss_function(X,y,theta)\n",
        "  return theta,cost_history\n",
        "\n",
        "final_theta,cost_history=descgrad(X,y,theta,0.1,1000)\n",
        "final_theta\n",
        "cost_history\n",
        "\n"
      ],
      "metadata": {
        "colab": {
          "base_uri": "https://localhost:8080/"
        },
        "id": "7jOmgZ7-XcQ7",
        "outputId": "e2e2b4b5-7775-4271-8bd9-259807a89088"
      },
      "execution_count": 10,
      "outputs": [
        {
          "output_type": "execute_result",
          "data": {
            "text/plain": [
              "array([796.44103641, 648.38231457, 529.50524147, 434.05067078,\n",
              "       357.39748594, 295.83745066, 246.39465433, 206.68070987,\n",
              "       174.77861668, 149.1496079 , 128.55842807, 112.01339056,\n",
              "        98.718288  ,  88.03380915,  79.4465808 ,  72.54432593,\n",
              "        66.99592833,  62.53543341,  58.94920707,  56.06562849,\n",
              "        53.74681613,  51.88198543,  50.38211598,  49.17566963,\n",
              "        48.20515226,  47.42435261,  46.79612483,  46.29060742,\n",
              "        45.88379258,  45.556377  ,  45.29283853,  45.08069441,\n",
              "        44.90990518,  44.77239569,  44.66167018,  44.57250284,\n",
              "        44.50068917,  44.44284605,  44.39625098,  44.35871293,\n",
              "        44.32846837,  44.30409773,  44.28445824,  44.2686298 ,\n",
              "        44.25587159,  44.24558702,  44.23729564,  44.23061049,\n",
              "        44.22521984,  44.22087258,  44.2173664 ,  44.21453828,\n",
              "        44.21225686,  44.21041627,  44.20893117,  44.20773278,\n",
              "        44.20676565,  44.20598507,  44.205355  ,  44.20484635,\n",
              "        44.2044357 ,  44.20410412,  44.20383636,  44.20362012,\n",
              "        44.20344546,  44.20330438,  44.20319041,  44.20309833,\n",
              "        44.20302392,  44.2029638 ,  44.20291521,  44.20287593,\n",
              "        44.20284419,  44.20281852,  44.20279777,  44.20278099,\n",
              "        44.20276742,  44.20275645,  44.20274758,  44.2027404 ,\n",
              "        44.20273459,  44.20272989,  44.20272609,  44.20272301,\n",
              "        44.20272052,  44.20271851,  44.20271688,  44.20271556,\n",
              "        44.20271449,  44.20271362,  44.20271292,  44.20271236,\n",
              "        44.2027119 ,  44.20271152,  44.20271122,  44.20271098,\n",
              "        44.20271078,  44.20271062,  44.20271049,  44.20271039,\n",
              "        44.2027103 ,  44.20271023,  44.20271017,  44.20271013,\n",
              "        44.20271009,  44.20271006,  44.20271004,  44.20271002,\n",
              "        44.20271   ,  44.20270999,  44.20270998,  44.20270997,\n",
              "        44.20270996,  44.20270996,  44.20270995,  44.20270995,\n",
              "        44.20270995,  44.20270994,  44.20270994,  44.20270994,\n",
              "        44.20270994,  44.20270994,  44.20270994,  44.20270994,\n",
              "        44.20270994,  44.20270994,  44.20270994,  44.20270994,\n",
              "        44.20270994,  44.20270994,  44.20270994,  44.20270993,\n",
              "        44.20270993,  44.20270993,  44.20270993,  44.20270993,\n",
              "        44.20270993,  44.20270993,  44.20270993,  44.20270993,\n",
              "        44.20270993,  44.20270993,  44.20270993,  44.20270993,\n",
              "        44.20270993,  44.20270993,  44.20270993,  44.20270993,\n",
              "        44.20270993,  44.20270993,  44.20270993,  44.20270993,\n",
              "        44.20270993,  44.20270993,  44.20270993,  44.20270993,\n",
              "        44.20270993,  44.20270993,  44.20270993,  44.20270993,\n",
              "        44.20270993,  44.20270993,  44.20270993,  44.20270993,\n",
              "        44.20270993,  44.20270993,  44.20270993,  44.20270993,\n",
              "        44.20270993,  44.20270993,  44.20270993,  44.20270993,\n",
              "        44.20270993,  44.20270993,  44.20270993,  44.20270993,\n",
              "        44.20270993,  44.20270993,  44.20270993,  44.20270993,\n",
              "        44.20270993,  44.20270993,  44.20270993,  44.20270993,\n",
              "        44.20270993,  44.20270993,  44.20270993,  44.20270993,\n",
              "        44.20270993,  44.20270993,  44.20270993,  44.20270993,\n",
              "        44.20270993,  44.20270993,  44.20270993,  44.20270993,\n",
              "        44.20270993,  44.20270993,  44.20270993,  44.20270993,\n",
              "        44.20270993,  44.20270993,  44.20270993,  44.20270993,\n",
              "        44.20270993,  44.20270993,  44.20270993,  44.20270993,\n",
              "        44.20270993,  44.20270993,  44.20270993,  44.20270993,\n",
              "        44.20270993,  44.20270993,  44.20270993,  44.20270993,\n",
              "        44.20270993,  44.20270993,  44.20270993,  44.20270993,\n",
              "        44.20270993,  44.20270993,  44.20270993,  44.20270993,\n",
              "        44.20270993,  44.20270993,  44.20270993,  44.20270993,\n",
              "        44.20270993,  44.20270993,  44.20270993,  44.20270993,\n",
              "        44.20270993,  44.20270993,  44.20270993,  44.20270993,\n",
              "        44.20270993,  44.20270993,  44.20270993,  44.20270993,\n",
              "        44.20270993,  44.20270993,  44.20270993,  44.20270993,\n",
              "        44.20270993,  44.20270993,  44.20270993,  44.20270993,\n",
              "        44.20270993,  44.20270993,  44.20270993,  44.20270993,\n",
              "        44.20270993,  44.20270993,  44.20270993,  44.20270993,\n",
              "        44.20270993,  44.20270993,  44.20270993,  44.20270993,\n",
              "        44.20270993,  44.20270993,  44.20270993,  44.20270993,\n",
              "        44.20270993,  44.20270993,  44.20270993,  44.20270993,\n",
              "        44.20270993,  44.20270993,  44.20270993,  44.20270993,\n",
              "        44.20270993,  44.20270993,  44.20270993,  44.20270993,\n",
              "        44.20270993,  44.20270993,  44.20270993,  44.20270993,\n",
              "        44.20270993,  44.20270993,  44.20270993,  44.20270993,\n",
              "        44.20270993,  44.20270993,  44.20270993,  44.20270993,\n",
              "        44.20270993,  44.20270993,  44.20270993,  44.20270993,\n",
              "        44.20270993,  44.20270993,  44.20270993,  44.20270993,\n",
              "        44.20270993,  44.20270993,  44.20270993,  44.20270993,\n",
              "        44.20270993,  44.20270993,  44.20270993,  44.20270993,\n",
              "        44.20270993,  44.20270993,  44.20270993,  44.20270993,\n",
              "        44.20270993,  44.20270993,  44.20270993,  44.20270993,\n",
              "        44.20270993,  44.20270993,  44.20270993,  44.20270993,\n",
              "        44.20270993,  44.20270993,  44.20270993,  44.20270993,\n",
              "        44.20270993,  44.20270993,  44.20270993,  44.20270993,\n",
              "        44.20270993,  44.20270993,  44.20270993,  44.20270993,\n",
              "        44.20270993,  44.20270993,  44.20270993,  44.20270993,\n",
              "        44.20270993,  44.20270993,  44.20270993,  44.20270993,\n",
              "        44.20270993,  44.20270993,  44.20270993,  44.20270993,\n",
              "        44.20270993,  44.20270993,  44.20270993,  44.20270993,\n",
              "        44.20270993,  44.20270993,  44.20270993,  44.20270993,\n",
              "        44.20270993,  44.20270993,  44.20270993,  44.20270993,\n",
              "        44.20270993,  44.20270993,  44.20270993,  44.20270993,\n",
              "        44.20270993,  44.20270993,  44.20270993,  44.20270993,\n",
              "        44.20270993,  44.20270993,  44.20270993,  44.20270993,\n",
              "        44.20270993,  44.20270993,  44.20270993,  44.20270993,\n",
              "        44.20270993,  44.20270993,  44.20270993,  44.20270993,\n",
              "        44.20270993,  44.20270993,  44.20270993,  44.20270993,\n",
              "        44.20270993,  44.20270993,  44.20270993,  44.20270993,\n",
              "        44.20270993,  44.20270993,  44.20270993,  44.20270993,\n",
              "        44.20270993,  44.20270993,  44.20270993,  44.20270993,\n",
              "        44.20270993,  44.20270993,  44.20270993,  44.20270993,\n",
              "        44.20270993,  44.20270993,  44.20270993,  44.20270993,\n",
              "        44.20270993,  44.20270993,  44.20270993,  44.20270993,\n",
              "        44.20270993,  44.20270993,  44.20270993,  44.20270993,\n",
              "        44.20270993,  44.20270993,  44.20270993,  44.20270993,\n",
              "        44.20270993,  44.20270993,  44.20270993,  44.20270993,\n",
              "        44.20270993,  44.20270993,  44.20270993,  44.20270993,\n",
              "        44.20270993,  44.20270993,  44.20270993,  44.20270993,\n",
              "        44.20270993,  44.20270993,  44.20270993,  44.20270993,\n",
              "        44.20270993,  44.20270993,  44.20270993,  44.20270993,\n",
              "        44.20270993,  44.20270993,  44.20270993,  44.20270993,\n",
              "        44.20270993,  44.20270993,  44.20270993,  44.20270993,\n",
              "        44.20270993,  44.20270993,  44.20270993,  44.20270993,\n",
              "        44.20270993,  44.20270993,  44.20270993,  44.20270993,\n",
              "        44.20270993,  44.20270993,  44.20270993,  44.20270993,\n",
              "        44.20270993,  44.20270993,  44.20270993,  44.20270993,\n",
              "        44.20270993,  44.20270993,  44.20270993,  44.20270993,\n",
              "        44.20270993,  44.20270993,  44.20270993,  44.20270993,\n",
              "        44.20270993,  44.20270993,  44.20270993,  44.20270993,\n",
              "        44.20270993,  44.20270993,  44.20270993,  44.20270993,\n",
              "        44.20270993,  44.20270993,  44.20270993,  44.20270993,\n",
              "        44.20270993,  44.20270993,  44.20270993,  44.20270993,\n",
              "        44.20270993,  44.20270993,  44.20270993,  44.20270993,\n",
              "        44.20270993,  44.20270993,  44.20270993,  44.20270993,\n",
              "        44.20270993,  44.20270993,  44.20270993,  44.20270993,\n",
              "        44.20270993,  44.20270993,  44.20270993,  44.20270993,\n",
              "        44.20270993,  44.20270993,  44.20270993,  44.20270993,\n",
              "        44.20270993,  44.20270993,  44.20270993,  44.20270993,\n",
              "        44.20270993,  44.20270993,  44.20270993,  44.20270993,\n",
              "        44.20270993,  44.20270993,  44.20270993,  44.20270993,\n",
              "        44.20270993,  44.20270993,  44.20270993,  44.20270993,\n",
              "        44.20270993,  44.20270993,  44.20270993,  44.20270993,\n",
              "        44.20270993,  44.20270993,  44.20270993,  44.20270993,\n",
              "        44.20270993,  44.20270993,  44.20270993,  44.20270993,\n",
              "        44.20270993,  44.20270993,  44.20270993,  44.20270993,\n",
              "        44.20270993,  44.20270993,  44.20270993,  44.20270993,\n",
              "        44.20270993,  44.20270993,  44.20270993,  44.20270993,\n",
              "        44.20270993,  44.20270993,  44.20270993,  44.20270993,\n",
              "        44.20270993,  44.20270993,  44.20270993,  44.20270993,\n",
              "        44.20270993,  44.20270993,  44.20270993,  44.20270993,\n",
              "        44.20270993,  44.20270993,  44.20270993,  44.20270993,\n",
              "        44.20270993,  44.20270993,  44.20270993,  44.20270993,\n",
              "        44.20270993,  44.20270993,  44.20270993,  44.20270993,\n",
              "        44.20270993,  44.20270993,  44.20270993,  44.20270993,\n",
              "        44.20270993,  44.20270993,  44.20270993,  44.20270993,\n",
              "        44.20270993,  44.20270993,  44.20270993,  44.20270993,\n",
              "        44.20270993,  44.20270993,  44.20270993,  44.20270993,\n",
              "        44.20270993,  44.20270993,  44.20270993,  44.20270993,\n",
              "        44.20270993,  44.20270993,  44.20270993,  44.20270993,\n",
              "        44.20270993,  44.20270993,  44.20270993,  44.20270993,\n",
              "        44.20270993,  44.20270993,  44.20270993,  44.20270993,\n",
              "        44.20270993,  44.20270993,  44.20270993,  44.20270993,\n",
              "        44.20270993,  44.20270993,  44.20270993,  44.20270993,\n",
              "        44.20270993,  44.20270993,  44.20270993,  44.20270993,\n",
              "        44.20270993,  44.20270993,  44.20270993,  44.20270993,\n",
              "        44.20270993,  44.20270993,  44.20270993,  44.20270993,\n",
              "        44.20270993,  44.20270993,  44.20270993,  44.20270993,\n",
              "        44.20270993,  44.20270993,  44.20270993,  44.20270993,\n",
              "        44.20270993,  44.20270993,  44.20270993,  44.20270993,\n",
              "        44.20270993,  44.20270993,  44.20270993,  44.20270993,\n",
              "        44.20270993,  44.20270993,  44.20270993,  44.20270993,\n",
              "        44.20270993,  44.20270993,  44.20270993,  44.20270993,\n",
              "        44.20270993,  44.20270993,  44.20270993,  44.20270993,\n",
              "        44.20270993,  44.20270993,  44.20270993,  44.20270993,\n",
              "        44.20270993,  44.20270993,  44.20270993,  44.20270993,\n",
              "        44.20270993,  44.20270993,  44.20270993,  44.20270993,\n",
              "        44.20270993,  44.20270993,  44.20270993,  44.20270993,\n",
              "        44.20270993,  44.20270993,  44.20270993,  44.20270993,\n",
              "        44.20270993,  44.20270993,  44.20270993,  44.20270993,\n",
              "        44.20270993,  44.20270993,  44.20270993,  44.20270993,\n",
              "        44.20270993,  44.20270993,  44.20270993,  44.20270993,\n",
              "        44.20270993,  44.20270993,  44.20270993,  44.20270993,\n",
              "        44.20270993,  44.20270993,  44.20270993,  44.20270993,\n",
              "        44.20270993,  44.20270993,  44.20270993,  44.20270993,\n",
              "        44.20270993,  44.20270993,  44.20270993,  44.20270993,\n",
              "        44.20270993,  44.20270993,  44.20270993,  44.20270993,\n",
              "        44.20270993,  44.20270993,  44.20270993,  44.20270993,\n",
              "        44.20270993,  44.20270993,  44.20270993,  44.20270993,\n",
              "        44.20270993,  44.20270993,  44.20270993,  44.20270993,\n",
              "        44.20270993,  44.20270993,  44.20270993,  44.20270993,\n",
              "        44.20270993,  44.20270993,  44.20270993,  44.20270993,\n",
              "        44.20270993,  44.20270993,  44.20270993,  44.20270993,\n",
              "        44.20270993,  44.20270993,  44.20270993,  44.20270993,\n",
              "        44.20270993,  44.20270993,  44.20270993,  44.20270993,\n",
              "        44.20270993,  44.20270993,  44.20270993,  44.20270993,\n",
              "        44.20270993,  44.20270993,  44.20270993,  44.20270993,\n",
              "        44.20270993,  44.20270993,  44.20270993,  44.20270993,\n",
              "        44.20270993,  44.20270993,  44.20270993,  44.20270993,\n",
              "        44.20270993,  44.20270993,  44.20270993,  44.20270993,\n",
              "        44.20270993,  44.20270993,  44.20270993,  44.20270993,\n",
              "        44.20270993,  44.20270993,  44.20270993,  44.20270993,\n",
              "        44.20270993,  44.20270993,  44.20270993,  44.20270993,\n",
              "        44.20270993,  44.20270993,  44.20270993,  44.20270993,\n",
              "        44.20270993,  44.20270993,  44.20270993,  44.20270993,\n",
              "        44.20270993,  44.20270993,  44.20270993,  44.20270993,\n",
              "        44.20270993,  44.20270993,  44.20270993,  44.20270993,\n",
              "        44.20270993,  44.20270993,  44.20270993,  44.20270993,\n",
              "        44.20270993,  44.20270993,  44.20270993,  44.20270993,\n",
              "        44.20270993,  44.20270993,  44.20270993,  44.20270993,\n",
              "        44.20270993,  44.20270993,  44.20270993,  44.20270993,\n",
              "        44.20270993,  44.20270993,  44.20270993,  44.20270993,\n",
              "        44.20270993,  44.20270993,  44.20270993,  44.20270993,\n",
              "        44.20270993,  44.20270993,  44.20270993,  44.20270993,\n",
              "        44.20270993,  44.20270993,  44.20270993,  44.20270993,\n",
              "        44.20270993,  44.20270993,  44.20270993,  44.20270993,\n",
              "        44.20270993,  44.20270993,  44.20270993,  44.20270993,\n",
              "        44.20270993,  44.20270993,  44.20270993,  44.20270993,\n",
              "        44.20270993,  44.20270993,  44.20270993,  44.20270993,\n",
              "        44.20270993,  44.20270993,  44.20270993,  44.20270993,\n",
              "        44.20270993,  44.20270993,  44.20270993,  44.20270993,\n",
              "        44.20270993,  44.20270993,  44.20270993,  44.20270993,\n",
              "        44.20270993,  44.20270993,  44.20270993,  44.20270993,\n",
              "        44.20270993,  44.20270993,  44.20270993,  44.20270993,\n",
              "        44.20270993,  44.20270993,  44.20270993,  44.20270993,\n",
              "        44.20270993,  44.20270993,  44.20270993,  44.20270993,\n",
              "        44.20270993,  44.20270993,  44.20270993,  44.20270993,\n",
              "        44.20270993,  44.20270993,  44.20270993,  44.20270993,\n",
              "        44.20270993,  44.20270993,  44.20270993,  44.20270993,\n",
              "        44.20270993,  44.20270993,  44.20270993,  44.20270993,\n",
              "        44.20270993,  44.20270993,  44.20270993,  44.20270993,\n",
              "        44.20270993,  44.20270993,  44.20270993,  44.20270993,\n",
              "        44.20270993,  44.20270993,  44.20270993,  44.20270993,\n",
              "        44.20270993,  44.20270993,  44.20270993,  44.20270993,\n",
              "        44.20270993,  44.20270993,  44.20270993,  44.20270993,\n",
              "        44.20270993,  44.20270993,  44.20270993,  44.20270993,\n",
              "        44.20270993,  44.20270993,  44.20270993,  44.20270993,\n",
              "        44.20270993,  44.20270993,  44.20270993,  44.20270993,\n",
              "        44.20270993,  44.20270993,  44.20270993,  44.20270993,\n",
              "        44.20270993,  44.20270993,  44.20270993,  44.20270993,\n",
              "        44.20270993,  44.20270993,  44.20270993,  44.20270993,\n",
              "        44.20270993,  44.20270993,  44.20270993,  44.20270993,\n",
              "        44.20270993,  44.20270993,  44.20270993,  44.20270993,\n",
              "        44.20270993,  44.20270993,  44.20270993,  44.20270993,\n",
              "        44.20270993,  44.20270993,  44.20270993,  44.20270993,\n",
              "        44.20270993,  44.20270993,  44.20270993,  44.20270993,\n",
              "        44.20270993,  44.20270993,  44.20270993,  44.20270993,\n",
              "        44.20270993,  44.20270993,  44.20270993,  44.20270993,\n",
              "        44.20270993,  44.20270993,  44.20270993,  44.20270993,\n",
              "        44.20270993,  44.20270993,  44.20270993,  44.20270993,\n",
              "        44.20270993,  44.20270993,  44.20270993,  44.20270993,\n",
              "        44.20270993,  44.20270993,  44.20270993,  44.20270993,\n",
              "        44.20270993,  44.20270993,  44.20270993,  44.20270993,\n",
              "        44.20270993,  44.20270993,  44.20270993,  44.20270993,\n",
              "        44.20270993,  44.20270993,  44.20270993,  44.20270993,\n",
              "        44.20270993,  44.20270993,  44.20270993,  44.20270993,\n",
              "        44.20270993,  44.20270993,  44.20270993,  44.20270993,\n",
              "        44.20270993,  44.20270993,  44.20270993,  44.20270993,\n",
              "        44.20270993,  44.20270993,  44.20270993,  44.20270993,\n",
              "        44.20270993,  44.20270993,  44.20270993,  44.20270993,\n",
              "        44.20270993,  44.20270993,  44.20270993,  44.20270993,\n",
              "        44.20270993,  44.20270993,  44.20270993,  44.20270993,\n",
              "        44.20270993,  44.20270993,  44.20270993,  44.20270993,\n",
              "        44.20270993,  44.20270993,  44.20270993,  44.20270993])"
            ]
          },
          "metadata": {},
          "execution_count": 10
        }
      ]
    },
    {
      "cell_type": "code",
      "source": [],
      "metadata": {
        "id": "6mggmHk6iNy4"
      },
      "execution_count": 10,
      "outputs": []
    },
    {
      "cell_type": "code",
      "source": [],
      "metadata": {
        "id": "wSYE4NECiPgT"
      },
      "execution_count": 10,
      "outputs": []
    },
    {
      "cell_type": "code",
      "source": [
        "plt.scatter(x,y)\n",
        "plt.plot(X,model(X,final_theta))\n"
      ],
      "metadata": {
        "colab": {
          "base_uri": "https://localhost:8080/",
          "height": 465
        },
        "id": "rpn4Pz05dyxE",
        "outputId": "5e9c1b25-5c96-47bb-de7b-96446f7aafd1"
      },
      "execution_count": 11,
      "outputs": [
        {
          "output_type": "execute_result",
          "data": {
            "text/plain": [
              "[<matplotlib.lines.Line2D at 0x7f8a217a8040>,\n",
              " <matplotlib.lines.Line2D at 0x7f8a217a80a0>]"
            ]
          },
          "metadata": {},
          "execution_count": 11
        },
        {
          "output_type": "display_data",
          "data": {
            "text/plain": [
              "<Figure size 640x480 with 1 Axes>"
            ],
            "image/png": "[encoded data removed]"
          },
          "metadata": {}
        }
      ]
    },
    {
      "cell_type": "code",
      "source": [
        "plt.plot(range(1000),cost_history)"
      ],
      "metadata": {
        "colab": {
          "base_uri": "https://localhost:8080/",
          "height": 447
        },
        "id": "UvrMlZ2PiSOb",
        "outputId": "eb8d65c8-78e8-42c6-bb4d-23a3bf031e42"
      },
      "execution_count": 12,
      "outputs": [
        {
          "output_type": "execute_result",
          "data": {
            "text/plain": [
              "[<matplotlib.lines.Line2D at 0x7f8a2163d330>]"
            ]
          },
          "metadata": {},
          "execution_count": 12
        },
        {
          "output_type": "display_data",
          "data": {
            "text/plain": [
              "<Figure size 640x480 with 1 Axes>"
            ],
            "image/png": "[encoded data removed]"
          },
          "metadata": {}
        }
      ]
    },
    {
      "cell_type": "markdown",
      "source": [
        "## **COEFFICIENT DE TERMINATION R2**\n",
        "\n",
        "# r**2=1-((sum(y-f(x)**2))/sum(y- y.mean)**2)**"
      ],
      "metadata": {
        "id": "YDMq0_AxoFLG"
      }
    },
    {
      "cell_type": "code",
      "source": [
        "def coef_determination(y,pred):\n",
        "  u=((y-pred)**2).sum()\n",
        "  v=((y-y.mean())**2).sum()\n",
        "  return 1-u/v\n"
      ],
      "metadata": {
        "id": "or65tQteoCQz"
      },
      "execution_count": 13,
      "outputs": []
    },
    {
      "cell_type": "code",
      "source": [
        "pred =model(X,final_theta)"
      ],
      "metadata": {
        "id": "p4ehwMMipUSj"
      },
      "execution_count": 14,
      "outputs": []
    },
    {
      "cell_type": "code",
      "source": [
        "coef_determination(y,pred)"
      ],
      "metadata": {
        "id": "IfZd8eHfptCC",
        "outputId": "4bef2156-c08c-47d4-f531-ddd395582083",
        "colab": {
          "base_uri": "https://localhost:8080/"
        }
      },
      "execution_count": 15,
      "outputs": [
        {
          "output_type": "execute_result",
          "data": {
            "text/plain": [
              "0.9561984727768965"
            ]
          },
          "metadata": {},
          "execution_count": 15
        }
      ]
    }
  ]
}