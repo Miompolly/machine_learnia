{
  "nbformat": 4,
  "nbformat_minor": 0,
  "metadata": {
    "colab": {
      "provenance": [],
      "toc_visible": true,
      "authorship_tag": "ABX9TyPhXkwE0ZBUOv/Y+iH+eWD4",
      "include_colab_link": true
    },
    "kernelspec": {
      "name": "python3",
      "display_name": "Python 3"
    },
    "language_info": {
      "name": "python"
    }
  },
  "cells": [
    {
      "cell_type": "markdown",
      "metadata": {
        "id": "view-in-github",
        "colab_type": "text"
      },
      "source": [
        "<a href=\"https://colab.research.google.com/github/Miompolly/machine_learnia/blob/main/regressionLean.ipynb\" target=\"_parent\"><img src=\"https://colab.research.google.com/assets/colab-badge.svg\" alt=\"Open In Colab\"/></a>"
      ]
    },
    {
      "cell_type": "markdown",
      "source": [
        "# Regression lineaire\n"
      ],
      "metadata": {
        "id": "Kaj7WdlfwvIF"
      }
    },
    {
      "cell_type": "code",
      "source": [
        "import matplotlib.pyplot as plt\n",
        "import numpy as np\n",
        "from sklearn.datasets import make_regression\n",
        "\n",
        "x,y=make_regression(n_samples=100,n_features=1,noise=10)\n",
        "print(x.shape)\n",
        "print(y.shape)"
      ],
      "metadata": {
        "colab": {
          "base_uri": "https://localhost:8080/"
        },
        "id": "zko-DFKvw4vn",
        "outputId": "bd100cbb-26a8-4dc2-c8db-b12cd3d2e7c3"
      },
      "execution_count": 17,
      "outputs": [
        {
          "output_type": "stream",
          "name": "stdout",
          "text": [
            "(100, 1)\n",
            "(100,)\n"
          ]
        }
      ]
    },
    {
      "cell_type": "code",
      "source": [
        "\n",
        "y.shape\n",
        "y"
      ],
      "metadata": {
        "colab": {
          "base_uri": "https://localhost:8080/"
        },
        "id": "pFR96Fmt-Hmz",
        "outputId": "3a282273-a3e1-49b7-9280-bfc4b35675eb"
      },
      "execution_count": 41,
      "outputs": [
        {
          "output_type": "execute_result",
          "data": {
            "text/plain": [
              "array([[ -13.81355757],\n",
              "       [  79.37667846],\n",
              "       [  14.00818753],\n",
              "       [  -5.99818734],\n",
              "       [ 142.53605708],\n",
              "       [ -37.58059421],\n",
              "       [ -15.44481714],\n",
              "       [  81.9586485 ],\n",
              "       [ -69.49772507],\n",
              "       [  37.43276132],\n",
              "       [  71.19434115],\n",
              "       [  -4.53441474],\n",
              "       [  18.25954851],\n",
              "       [  19.28175725],\n",
              "       [ -33.18358528],\n",
              "       [  90.60403804],\n",
              "       [ -59.51371203],\n",
              "       [ -47.17145678],\n",
              "       [  55.82965634],\n",
              "       [ -33.6880661 ],\n",
              "       [  21.15820998],\n",
              "       [ -26.16709566],\n",
              "       [-130.74716458],\n",
              "       [  10.47758061],\n",
              "       [  82.92807071],\n",
              "       [  17.03608188],\n",
              "       [  12.44042724],\n",
              "       [ -62.01244445],\n",
              "       [  43.57468916],\n",
              "       [  20.36259056],\n",
              "       [  76.01444005],\n",
              "       [  48.06553918],\n",
              "       [  45.6464009 ],\n",
              "       [ -32.13237387],\n",
              "       [   7.94509505],\n",
              "       [   5.1291981 ],\n",
              "       [ -62.18058704],\n",
              "       [  59.0763712 ],\n",
              "       [  31.33373653],\n",
              "       [ -38.9832185 ],\n",
              "       [ -20.90327791],\n",
              "       [ -20.96982308],\n",
              "       [  29.29443372],\n",
              "       [  30.01106613],\n",
              "       [ -62.52762409],\n",
              "       [  43.29960229],\n",
              "       [  13.35421597],\n",
              "       [  27.75608137],\n",
              "       [ -58.9670483 ],\n",
              "       [ -48.12012963],\n",
              "       [ -57.26480921],\n",
              "       [ -24.72577667],\n",
              "       [  55.57043234],\n",
              "       [  13.59848776],\n",
              "       [ -18.83193103],\n",
              "       [ -48.12678998],\n",
              "       [ -65.27063248],\n",
              "       [ -19.38871097],\n",
              "       [ -54.29131871],\n",
              "       [  33.26776694],\n",
              "       [ -29.88526572],\n",
              "       [ -66.6658342 ],\n",
              "       [  -9.83300825],\n",
              "       [ -35.23888081],\n",
              "       [  53.97229895],\n",
              "       [ -77.39779409],\n",
              "       [ -17.42090851],\n",
              "       [ 106.41666199],\n",
              "       [ -71.52902217],\n",
              "       [ -43.14384526],\n",
              "       [   2.39155267],\n",
              "       [ -12.47727199],\n",
              "       [ -50.85223197],\n",
              "       [  27.80829329],\n",
              "       [  44.21868275],\n",
              "       [  33.90758879],\n",
              "       [   0.82099498],\n",
              "       [ -75.59165948],\n",
              "       [ -37.46464082],\n",
              "       [  11.48148946],\n",
              "       [ -34.83390451],\n",
              "       [  86.79772081],\n",
              "       [ -55.93299395],\n",
              "       [ -13.02461479],\n",
              "       [   0.29796057],\n",
              "       [ 116.65012377],\n",
              "       [ 137.24413572],\n",
              "       [  87.86047075],\n",
              "       [ -41.05027194],\n",
              "       [  25.16886635],\n",
              "       [ -45.28486621],\n",
              "       [  63.25007013],\n",
              "       [  75.81249594],\n",
              "       [ -12.41969607],\n",
              "       [ -41.63390521],\n",
              "       [  17.54286185],\n",
              "       [ -35.14238978],\n",
              "       [ -64.55306063],\n",
              "       [  -2.88481932],\n",
              "       [ -60.86627363]])"
            ]
          },
          "metadata": {},
          "execution_count": 41
        }
      ]
    },
    {
      "cell_type": "code",
      "source": [
        "plt.scatter(x,y)\n",
        "plt.show"
      ],
      "metadata": {
        "colab": {
          "base_uri": "https://localhost:8080/",
          "height": 447
        },
        "id": "JlfQ0GEs-bvm",
        "outputId": "6a6b4fca-99ef-4fe7-ed9d-4a8f5d4df580"
      },
      "execution_count": 42,
      "outputs": [
        {
          "output_type": "execute_result",
          "data": {
            "text/plain": [
              "<function matplotlib.pyplot.show(close=None, block=None)>"
            ]
          },
          "metadata": {},
          "execution_count": 42
        },
        {
          "output_type": "display_data",
          "data": {
            "text/plain": [
              "<Figure size 640x480 with 1 Axes>"
            ],
            "image/png": "[encoded data removed]"
          },
          "metadata": {}
        }
      ]
    },
    {
      "cell_type": "code",
      "source": [
        "X=np.hstack((x,np.ones(x.shape)))\n",
        "X"
      ],
      "metadata": {
        "colab": {
          "base_uri": "https://localhost:8080/"
        },
        "id": "lHq16sXZ-6kw",
        "outputId": "eed31abf-a0f5-4780-c1d2-11b9899bfdae"
      },
      "execution_count": 43,
      "outputs": [
        {
          "output_type": "execute_result",
          "data": {
            "text/plain": [
              "array([[-0.38291944,  1.        ],\n",
              "       [ 1.20504229,  1.        ],\n",
              "       [ 0.17817458,  1.        ],\n",
              "       [ 0.03340602,  1.        ],\n",
              "       [ 2.33797592,  1.        ],\n",
              "       [-0.45551586,  1.        ],\n",
              "       [-0.13742111,  1.        ],\n",
              "       [ 1.23473214,  1.        ],\n",
              "       [-1.33160716,  1.        ],\n",
              "       [ 0.57101817,  1.        ],\n",
              "       [ 1.36340319,  1.        ],\n",
              "       [-0.36826757,  1.        ],\n",
              "       [ 0.11929577,  1.        ],\n",
              "       [ 0.36892764,  1.        ],\n",
              "       [-0.6002019 ,  1.        ],\n",
              "       [ 1.42143935,  1.        ],\n",
              "       [-0.87355068,  1.        ],\n",
              "       [-0.91646489,  1.        ],\n",
              "       [ 0.98558695,  1.        ],\n",
              "       [-0.58611149,  1.        ],\n",
              "       [ 0.33345324,  1.        ],\n",
              "       [-0.79268371,  1.        ],\n",
              "       [-2.32172725,  1.        ],\n",
              "       [ 0.23070981,  1.        ],\n",
              "       [ 1.65076335,  1.        ],\n",
              "       [ 0.21474154,  1.        ],\n",
              "       [-0.0122168 ,  1.        ],\n",
              "       [-0.74556962,  1.        ],\n",
              "       [ 0.69080414,  1.        ],\n",
              "       [ 0.29364376,  1.        ],\n",
              "       [ 1.22887523,  1.        ],\n",
              "       [ 0.84974649,  1.        ],\n",
              "       [ 0.71973123,  1.        ],\n",
              "       [-0.42053395,  1.        ],\n",
              "       [ 0.03949577,  1.        ],\n",
              "       [ 0.02578213,  1.        ],\n",
              "       [-1.41578829,  1.        ],\n",
              "       [ 1.07818528,  1.        ],\n",
              "       [ 0.86828558,  1.        ],\n",
              "       [-0.76856732,  1.        ],\n",
              "       [-0.79839293,  1.        ],\n",
              "       [-0.39670277,  1.        ],\n",
              "       [ 0.26022469,  1.        ],\n",
              "       [ 0.80376211,  1.        ],\n",
              "       [-1.09178299,  1.        ],\n",
              "       [ 0.65024518,  1.        ],\n",
              "       [ 0.32390427,  1.        ],\n",
              "       [ 0.3904614 ,  1.        ],\n",
              "       [-1.24621926,  1.        ],\n",
              "       [-0.88045493,  1.        ],\n",
              "       [-1.2225299 ,  1.        ],\n",
              "       [-0.47672798,  1.        ],\n",
              "       [ 0.63783611,  1.        ],\n",
              "       [ 0.07919182,  1.        ],\n",
              "       [-0.28931644,  1.        ],\n",
              "       [-0.70877186,  1.        ],\n",
              "       [-0.84608276,  1.        ],\n",
              "       [-0.31609171,  1.        ],\n",
              "       [-0.65196989,  1.        ],\n",
              "       [ 0.68653268,  1.        ],\n",
              "       [-0.32439024,  1.        ],\n",
              "       [-1.2611942 ,  1.        ],\n",
              "       [ 0.03248486,  1.        ],\n",
              "       [-0.41554497,  1.        ],\n",
              "       [ 0.83576111,  1.        ],\n",
              "       [-1.09866666,  1.        ],\n",
              "       [-0.09545879,  1.        ],\n",
              "       [ 1.72365813,  1.        ],\n",
              "       [-1.36321659,  1.        ],\n",
              "       [-0.84436034,  1.        ],\n",
              "       [ 0.05791906,  1.        ],\n",
              "       [-0.04121598,  1.        ],\n",
              "       [-0.96493059,  1.        ],\n",
              "       [ 0.62994041,  1.        ],\n",
              "       [ 0.6752816 ,  1.        ],\n",
              "       [ 0.41955253,  1.        ],\n",
              "       [ 0.07540481,  1.        ],\n",
              "       [-1.12363017,  1.        ],\n",
              "       [-0.74944241,  1.        ],\n",
              "       [-0.00358088,  1.        ],\n",
              "       [-0.53210392,  1.        ],\n",
              "       [ 1.86151407,  1.        ],\n",
              "       [-0.94957881,  1.        ],\n",
              "       [-0.29086225,  1.        ],\n",
              "       [ 0.23567818,  1.        ],\n",
              "       [ 1.89018127,  1.        ],\n",
              "       [ 1.90163386,  1.        ],\n",
              "       [ 1.58713164,  1.        ],\n",
              "       [-0.5997054 ,  1.        ],\n",
              "       [ 0.4324342 ,  1.        ],\n",
              "       [-0.59370626,  1.        ],\n",
              "       [ 1.57260614,  1.        ],\n",
              "       [ 1.65010215,  1.        ],\n",
              "       [-0.20075591,  1.        ],\n",
              "       [-0.69612877,  1.        ],\n",
              "       [-0.01296569,  1.        ],\n",
              "       [-0.83253708,  1.        ],\n",
              "       [-1.06767131,  1.        ],\n",
              "       [-0.24828353,  1.        ],\n",
              "       [-1.22817429,  1.        ]])"
            ]
          },
          "metadata": {},
          "execution_count": 43
        }
      ]
    },
    {
      "cell_type": "code",
      "source": [
        "theta=np.random.rand(2,1)\n",
        "# 2 row and one column\n",
        "theta"
      ],
      "metadata": {
        "id": "5CH5GQiPAePw",
        "colab": {
          "base_uri": "https://localhost:8080/"
        },
        "outputId": "7ab76e83-105f-4fa5-c380-235d645384d0"
      },
      "execution_count": 44,
      "outputs": [
        {
          "output_type": "execute_result",
          "data": {
            "text/plain": [
              "array([[0.35004807],\n",
              "       [0.30358122]])"
            ]
          },
          "metadata": {},
          "execution_count": 44
        }
      ]
    },
    {
      "cell_type": "markdown",
      "source": [
        "**X=mx(n+1) m=samples n=features**\n",
        "**y-m*1**\n",
        "\n",
        "**theta=(n+1)*1**\n"
      ],
      "metadata": {
        "id": "I_nPizo0CMS9"
      }
    },
    {
      "cell_type": "markdown",
      "source": [
        "# Model"
      ],
      "metadata": {
        "id": "pZE23k33DohT"
      }
    },
    {
      "cell_type": "code",
      "source": [
        "def model(X,theta):\n",
        "  return X.dot(theta)\n",
        "\n",
        "model(X,theta)\n",
        "plt.scatter(x,y)\n",
        "plt.plot(x,model(X,theta))\n",
        "plt.show()\n",
        "\n",
        "\n"
      ],
      "metadata": {
        "colab": {
          "base_uri": "https://localhost:8080/",
          "height": 430
        },
        "id": "-u-hBNdOCQug",
        "outputId": "c0a9d3df-865f-4129-8bac-7f531fa4854a"
      },
      "execution_count": 45,
      "outputs": [
        {
          "output_type": "display_data",
          "data": {
            "text/plain": [
              "<Figure size 640x480 with 1 Axes>"
            ],
            "image/png": "[encoded data removed]"
          },
          "metadata": {}
        }
      ]
    },
    {
      "cell_type": "markdown",
      "source": [
        "# *loss* function(fonction cout)\n",
        "\n",
        "J(theta)=(1/2m).sum(X.theta-y)**2\n",
        "where X.theta=model\n"
      ],
      "metadata": {
        "id": "n1qWYD_fIGUK"
      }
    },
    {
      "cell_type": "code",
      "source": [
        "def loss_function(X,y,theta):\n",
        "  m=len(y)\n",
        "  return 1/(2*m) * np.sum((model(X,theta)-y)**2)\n",
        "\n",
        "loss_function(X,y,theta)"
      ],
      "metadata": {
        "colab": {
          "base_uri": "https://localhost:8080/"
        },
        "id": "1jw6n_zJLTZX",
        "outputId": "13d4a16b-9778-42f0-f398-7392c9a9ffe1"
      },
      "execution_count": 46,
      "outputs": [
        {
          "output_type": "execute_result",
          "data": {
            "text/plain": [
              "1378.7260439887925"
            ]
          },
          "metadata": {},
          "execution_count": 46
        }
      ]
    },
    {
      "cell_type": "markdown",
      "source": [
        "**GRADIENTS**\n",
        "dJ(theta)/d(theta)=(1/m).X.T((X,theta)-y)"
      ],
      "metadata": {
        "id": "UhoB2f_LNEWh"
      }
    },
    {
      "cell_type": "code",
      "source": [
        "def grad(X,y,theta):\n",
        "  m=len(y)\n",
        "  return (1/m)*X.T.dot(model(X,theta)-y)\n",
        "\n",
        "grad(X,y,theta)\n",
        "\n",
        "\n"
      ],
      "metadata": {
        "id": "_cVvIvNEM8HT",
        "outputId": "69fde7be-2c8d-4fc1-8a2e-58c98b419495",
        "colab": {
          "base_uri": "https://localhost:8080/"
        }
      },
      "execution_count": 47,
      "outputs": [
        {
          "output_type": "execute_result",
          "data": {
            "text/plain": [
              "array([[-47.07601051],\n",
              "       [ -0.91639737]])"
            ]
          },
          "metadata": {},
          "execution_count": 47
        }
      ]
    },
    {
      "cell_type": "markdown",
      "source": [
        "# DESCENTE GRADIENTS(Gradients Descente)\n",
        "**theta=theta-alpha*grad(X,y,theta)**"
      ],
      "metadata": {
        "id": "8gUKJF_wNCEt"
      }
    },
    {
      "cell_type": "code",
      "source": [
        "def descgrad(X,y,theta,learning_rate,iteration):\n",
        "  cost_history=np.zeros(iteration)\n",
        "  for i in range(0,iteration):\n",
        "    theta=theta-learning_rate*grad(X,y,theta)\n",
        "    cost_history[i]=loss_function(X,y,theta)\n",
        "  return theta,cost_history\n",
        "\n",
        "final_theta,cost_history=descgrad(X,y,theta,1,1000)\n",
        "final_theta\n",
        "\n"
      ],
      "metadata": {
        "colab": {
          "base_uri": "https://localhost:8080/"
        },
        "id": "7jOmgZ7-XcQ7",
        "outputId": "3ad22a45-ae4f-4f23-a391-7ea925a691ec"
      },
      "execution_count": 62,
      "outputs": [
        {
          "output_type": "execute_result",
          "data": {
            "text/plain": [
              "array([[56.59534071],\n",
              "       [ 0.7338132 ]])"
            ]
          },
          "metadata": {},
          "execution_count": 62
        }
      ]
    },
    {
      "cell_type": "code",
      "source": [],
      "metadata": {
        "id": "6mggmHk6iNy4"
      },
      "execution_count": null,
      "outputs": []
    },
    {
      "cell_type": "code",
      "source": [],
      "metadata": {
        "id": "wSYE4NECiPgT"
      },
      "execution_count": null,
      "outputs": []
    },
    {
      "cell_type": "code",
      "source": [
        "plt.scatter(x,y)\n",
        "plt.plot(X,model(X,final_theta))\n"
      ],
      "metadata": {
        "colab": {
          "base_uri": "https://localhost:8080/",
          "height": 465
        },
        "id": "rpn4Pz05dyxE",
        "outputId": "7ab5201e-dc57-46c8-c576-cd22b5c73965"
      },
      "execution_count": 64,
      "outputs": [
        {
          "output_type": "execute_result",
          "data": {
            "text/plain": [
              "[<matplotlib.lines.Line2D at 0x78371fd85360>,\n",
              " <matplotlib.lines.Line2D at 0x78371fd853c0>]"
            ]
          },
          "metadata": {},
          "execution_count": 64
        },
        {
          "output_type": "display_data",
          "data": {
            "text/plain": [
              "<Figure size 640x480 with 1 Axes>"
            ],
            "image/png": "[encoded data removed]"
          },
          "metadata": {}
        }
      ]
    },
    {
      "cell_type": "code",
      "source": [
        "plt.plot(range(1000),cost_history)"
      ],
      "metadata": {
        "colab": {
          "base_uri": "https://localhost:8080/",
          "height": 447
        },
        "id": "UvrMlZ2PiSOb",
        "outputId": "23597118-6392-4cff-b998-aa495a0b2f72"
      },
      "execution_count": 65,
      "outputs": [
        {
          "output_type": "execute_result",
          "data": {
            "text/plain": [
              "[<matplotlib.lines.Line2D at 0x78371fdf67d0>]"
            ]
          },
          "metadata": {},
          "execution_count": 65
        },
        {
          "output_type": "display_data",
          "data": {
            "text/plain": [
              "<Figure size 640x480 with 1 Axes>"
            ],
            "image/png": "[encoded data removed]"
          },
          "metadata": {}
        }
      ]
    },
    {
      "cell_type": "code",
      "source": [
        "loss_function(X,y,final_theta)"
      ],
      "metadata": {
        "colab": {
          "base_uri": "https://localhost:8080/"
        },
        "id": "pMjm5u-uesxL",
        "outputId": "8671d111-30e5-4340-8a4f-efea74b367bd"
      },
      "execution_count": 61,
      "outputs": [
        {
          "output_type": "execute_result",
          "data": {
            "text/plain": [
              "54.6269185709291"
            ]
          },
          "metadata": {},
          "execution_count": 61
        }
      ]
    }
  ]
}